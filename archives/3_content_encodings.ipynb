{
  "nbformat": 4,
  "nbformat_minor": 0,
  "metadata": {
    "colab": {
      "provenance": [],
      "gpuType": "T4",
      "authorship_tag": "ABX9TyMCt0Oi3ge641f29bybypDp",
      "include_colab_link": true
    },
    "kernelspec": {
      "name": "python3",
      "display_name": "Python 3"
    },
    "language_info": {
      "name": "python"
    },
    "accelerator": "GPU"
  },
  "cells": [
    {
      "cell_type": "markdown",
      "metadata": {
        "id": "view-in-github",
        "colab_type": "text"
      },
      "source": [
        "<a href=\"https://colab.research.google.com/github/Rahul19982022/anime-recommendation-system-exp/blob/main/archives/3_content_encodings.ipynb\" target=\"_parent\"><img src=\"https://colab.research.google.com/assets/colab-badge.svg\" alt=\"Open In Colab\"/></a>"
      ]
    },
    {
      "cell_type": "code",
      "source": [
        "!pip install -q sentence-transformers==4.1.0\n",
        "!pip install -q einops==0.8.1"
      ],
      "metadata": {
        "id": "6lUdNr4rM-cL"
      },
      "execution_count": null,
      "outputs": []
    },
    {
      "cell_type": "code",
      "execution_count": 1,
      "metadata": {
        "id": "o4Yk2j5XXRyc"
      },
      "outputs": [],
      "source": [
        "import pandas as pd\n",
        "import numpy as np\n",
        "import os\n",
        "import pickle"
      ]
    },
    {
      "cell_type": "code",
      "source": [
        "from sentence_transformers import SentenceTransformer"
      ],
      "metadata": {
        "id": "qgnSK9B-a8s5"
      },
      "execution_count": 3,
      "outputs": []
    },
    {
      "cell_type": "code",
      "source": [
        "from google.colab import drive\n",
        "drive.mount('/content/drive')"
      ],
      "metadata": {
        "id": "Dr2SJXOXXZWS",
        "colab": {
          "base_uri": "https://localhost:8080/"
        },
        "outputId": "47f888ba-4bc7-45ee-8370-fd13189ecbe5"
      },
      "execution_count": 3,
      "outputs": [
        {
          "output_type": "stream",
          "name": "stdout",
          "text": [
            "Mounted at /content/drive\n"
          ]
        }
      ]
    },
    {
      "cell_type": "code",
      "source": [
        "# put path of your project folder here\n",
        "project_path = '/content/drive/MyDrive/anime_proj'\n",
        "os.chdir(project_path)"
      ],
      "metadata": {
        "id": "IjyyeIibXdIO"
      },
      "execution_count": 4,
      "outputs": []
    },
    {
      "cell_type": "code",
      "source": [
        "anime = pd.read_csv('datasets/kaggle_dataset/anime.csv')\n",
        "anime_with_synopsis = pd.read_csv('datasets/kaggle_dataset/anime_with_synopsis.csv')\n",
        "plot_df = pd.read_csv('datasets/created_datasets/plot_df.csv')"
      ],
      "metadata": {
        "id": "KTZRI7HFXdKy"
      },
      "execution_count": null,
      "outputs": []
    },
    {
      "cell_type": "code",
      "source": [
        "anime.info()"
      ],
      "metadata": {
        "id": "D5nx4OMMXlJj",
        "colab": {
          "base_uri": "https://localhost:8080/"
        },
        "outputId": "2f26ac2f-dfc0-4abc-dc8d-1083989a81a9"
      },
      "execution_count": null,
      "outputs": [
        {
          "output_type": "stream",
          "name": "stdout",
          "text": [
            "<class 'pandas.core.frame.DataFrame'>\n",
            "RangeIndex: 17562 entries, 0 to 17561\n",
            "Data columns (total 35 columns):\n",
            " #   Column         Non-Null Count  Dtype \n",
            "---  ------         --------------  ----- \n",
            " 0   MAL_ID         17562 non-null  int64 \n",
            " 1   Name           17562 non-null  object\n",
            " 2   Score          17562 non-null  object\n",
            " 3   Genres         17562 non-null  object\n",
            " 4   English name   17562 non-null  object\n",
            " 5   Japanese name  17562 non-null  object\n",
            " 6   Type           17562 non-null  object\n",
            " 7   Episodes       17562 non-null  object\n",
            " 8   Aired          17562 non-null  object\n",
            " 9   Premiered      17562 non-null  object\n",
            " 10  Producers      17562 non-null  object\n",
            " 11  Licensors      17562 non-null  object\n",
            " 12  Studios        17562 non-null  object\n",
            " 13  Source         17562 non-null  object\n",
            " 14  Duration       17562 non-null  object\n",
            " 15  Rating         17562 non-null  object\n",
            " 16  Ranked         17562 non-null  object\n",
            " 17  Popularity     17562 non-null  int64 \n",
            " 18  Members        17562 non-null  int64 \n",
            " 19  Favorites      17562 non-null  int64 \n",
            " 20  Watching       17562 non-null  int64 \n",
            " 21  Completed      17562 non-null  int64 \n",
            " 22  On-Hold        17562 non-null  int64 \n",
            " 23  Dropped        17562 non-null  int64 \n",
            " 24  Plan to Watch  17562 non-null  int64 \n",
            " 25  Score-10       17562 non-null  object\n",
            " 26  Score-9        17562 non-null  object\n",
            " 27  Score-8        17562 non-null  object\n",
            " 28  Score-7        17562 non-null  object\n",
            " 29  Score-6        17562 non-null  object\n",
            " 30  Score-5        17562 non-null  object\n",
            " 31  Score-4        17562 non-null  object\n",
            " 32  Score-3        17562 non-null  object\n",
            " 33  Score-2        17562 non-null  object\n",
            " 34  Score-1        17562 non-null  object\n",
            "dtypes: int64(9), object(26)\n",
            "memory usage: 4.7+ MB\n"
          ]
        }
      ]
    },
    {
      "cell_type": "code",
      "source": [
        "rem_genre = anime[anime['Genres'].str.contains('Hentai')]['MAL_ID'].tolist()\n",
        "music_cat = anime[anime['Type'] == 'Music']['MAL_ID'].tolist()\n",
        "unknown_cat = anime[anime['Type'] == 'Unknown']['MAL_ID'].tolist()\n",
        "\n",
        "anime = anime[~anime['MAL_ID'].isin(rem_genre + music_cat + unknown_cat)]\n",
        "anime.reset_index(drop = True, inplace = True)"
      ],
      "metadata": {
        "id": "Jfz_gyctXlMB"
      },
      "execution_count": null,
      "outputs": []
    },
    {
      "cell_type": "code",
      "source": [
        "anime.info()"
      ],
      "metadata": {
        "colab": {
          "base_uri": "https://localhost:8080/"
        },
        "id": "meLa6TLBXlOl",
        "outputId": "ad471d63-e449-481d-8265-f56ec0d5f54f"
      },
      "execution_count": null,
      "outputs": [
        {
          "output_type": "stream",
          "name": "stdout",
          "text": [
            "<class 'pandas.core.frame.DataFrame'>\n",
            "RangeIndex: 14708 entries, 0 to 14707\n",
            "Data columns (total 35 columns):\n",
            " #   Column         Non-Null Count  Dtype \n",
            "---  ------         --------------  ----- \n",
            " 0   MAL_ID         14708 non-null  int64 \n",
            " 1   Name           14708 non-null  object\n",
            " 2   Score          14708 non-null  object\n",
            " 3   Genres         14708 non-null  object\n",
            " 4   English name   14708 non-null  object\n",
            " 5   Japanese name  14708 non-null  object\n",
            " 6   Type           14708 non-null  object\n",
            " 7   Episodes       14708 non-null  object\n",
            " 8   Aired          14708 non-null  object\n",
            " 9   Premiered      14708 non-null  object\n",
            " 10  Producers      14708 non-null  object\n",
            " 11  Licensors      14708 non-null  object\n",
            " 12  Studios        14708 non-null  object\n",
            " 13  Source         14708 non-null  object\n",
            " 14  Duration       14708 non-null  object\n",
            " 15  Rating         14708 non-null  object\n",
            " 16  Ranked         14708 non-null  object\n",
            " 17  Popularity     14708 non-null  int64 \n",
            " 18  Members        14708 non-null  int64 \n",
            " 19  Favorites      14708 non-null  int64 \n",
            " 20  Watching       14708 non-null  int64 \n",
            " 21  Completed      14708 non-null  int64 \n",
            " 22  On-Hold        14708 non-null  int64 \n",
            " 23  Dropped        14708 non-null  int64 \n",
            " 24  Plan to Watch  14708 non-null  int64 \n",
            " 25  Score-10       14708 non-null  object\n",
            " 26  Score-9        14708 non-null  object\n",
            " 27  Score-8        14708 non-null  object\n",
            " 28  Score-7        14708 non-null  object\n",
            " 29  Score-6        14708 non-null  object\n",
            " 30  Score-5        14708 non-null  object\n",
            " 31  Score-4        14708 non-null  object\n",
            " 32  Score-3        14708 non-null  object\n",
            " 33  Score-2        14708 non-null  object\n",
            " 34  Score-1        14708 non-null  object\n",
            "dtypes: int64(9), object(26)\n",
            "memory usage: 3.9+ MB\n"
          ]
        }
      ]
    },
    {
      "cell_type": "code",
      "source": [
        "anime_with_synopsis.info()"
      ],
      "metadata": {
        "colab": {
          "base_uri": "https://localhost:8080/"
        },
        "id": "9cWTrGixXrNk",
        "outputId": "dcb882bb-3084-4598-ef90-46dfa741a9c2"
      },
      "execution_count": null,
      "outputs": [
        {
          "output_type": "stream",
          "name": "stdout",
          "text": [
            "<class 'pandas.core.frame.DataFrame'>\n",
            "RangeIndex: 16214 entries, 0 to 16213\n",
            "Data columns (total 5 columns):\n",
            " #   Column     Non-Null Count  Dtype \n",
            "---  ------     --------------  ----- \n",
            " 0   MAL_ID     16214 non-null  int64 \n",
            " 1   Name       16214 non-null  object\n",
            " 2   Score      16214 non-null  object\n",
            " 3   Genres     16214 non-null  object\n",
            " 4   sypnopsis  16206 non-null  object\n",
            "dtypes: int64(1), object(4)\n",
            "memory usage: 633.5+ KB\n"
          ]
        }
      ]
    },
    {
      "cell_type": "code",
      "source": [
        "anime = anime.copy()"
      ],
      "metadata": {
        "id": "sLUcUnVvMpO1"
      },
      "execution_count": null,
      "outputs": []
    },
    {
      "cell_type": "code",
      "source": [
        "anime['synopsis'] = anime['MAL_ID'].map(anime_with_synopsis.set_index('MAL_ID')['sypnopsis'])\n",
        "anime['synopsis']"
      ],
      "metadata": {
        "colab": {
          "base_uri": "https://localhost:8080/",
          "height": 458
        },
        "id": "DQ-ycp3WXZbS",
        "outputId": "172fde54-1274-48c8-d71b-c3c19cd2fd91"
      },
      "execution_count": null,
      "outputs": [
        {
          "output_type": "execute_result",
          "data": {
            "text/plain": [
              "0        In the year 2071, humanity has colonized sever...\n",
              "1        other day, another bounty—such is the life of ...\n",
              "2        Vash the Stampede is the man with a $$60,000,0...\n",
              "3        ches are individuals with special powers like ...\n",
              "4        It is the dark century and the people are suff...\n",
              "                               ...                        \n",
              "14703    No synopsis information has been added to this...\n",
              "14704    ko is a typical high school student whose life...\n",
              "14705            Sequel to Higurashi no Naku Koro ni Gou .\n",
              "14706                            New Yama no Susume anime.\n",
              "14707    Solar calendar year 2020: grotesque organisms ...\n",
              "Name: synopsis, Length: 14708, dtype: object"
            ],
            "text/html": [
              "<div>\n",
              "<style scoped>\n",
              "    .dataframe tbody tr th:only-of-type {\n",
              "        vertical-align: middle;\n",
              "    }\n",
              "\n",
              "    .dataframe tbody tr th {\n",
              "        vertical-align: top;\n",
              "    }\n",
              "\n",
              "    .dataframe thead th {\n",
              "        text-align: right;\n",
              "    }\n",
              "</style>\n",
              "<table border=\"1\" class=\"dataframe\">\n",
              "  <thead>\n",
              "    <tr style=\"text-align: right;\">\n",
              "      <th></th>\n",
              "      <th>synopsis</th>\n",
              "    </tr>\n",
              "  </thead>\n",
              "  <tbody>\n",
              "    <tr>\n",
              "      <th>0</th>\n",
              "      <td>In the year 2071, humanity has colonized sever...</td>\n",
              "    </tr>\n",
              "    <tr>\n",
              "      <th>1</th>\n",
              "      <td>other day, another bounty—such is the life of ...</td>\n",
              "    </tr>\n",
              "    <tr>\n",
              "      <th>2</th>\n",
              "      <td>Vash the Stampede is the man with a $$60,000,0...</td>\n",
              "    </tr>\n",
              "    <tr>\n",
              "      <th>3</th>\n",
              "      <td>ches are individuals with special powers like ...</td>\n",
              "    </tr>\n",
              "    <tr>\n",
              "      <th>4</th>\n",
              "      <td>It is the dark century and the people are suff...</td>\n",
              "    </tr>\n",
              "    <tr>\n",
              "      <th>...</th>\n",
              "      <td>...</td>\n",
              "    </tr>\n",
              "    <tr>\n",
              "      <th>14703</th>\n",
              "      <td>No synopsis information has been added to this...</td>\n",
              "    </tr>\n",
              "    <tr>\n",
              "      <th>14704</th>\n",
              "      <td>ko is a typical high school student whose life...</td>\n",
              "    </tr>\n",
              "    <tr>\n",
              "      <th>14705</th>\n",
              "      <td>Sequel to Higurashi no Naku Koro ni Gou .</td>\n",
              "    </tr>\n",
              "    <tr>\n",
              "      <th>14706</th>\n",
              "      <td>New Yama no Susume anime.</td>\n",
              "    </tr>\n",
              "    <tr>\n",
              "      <th>14707</th>\n",
              "      <td>Solar calendar year 2020: grotesque organisms ...</td>\n",
              "    </tr>\n",
              "  </tbody>\n",
              "</table>\n",
              "<p>14708 rows × 1 columns</p>\n",
              "</div><br><label><b>dtype:</b> object</label>"
            ]
          },
          "metadata": {},
          "execution_count": 13
        }
      ]
    },
    {
      "cell_type": "code",
      "source": [
        "anime['synopsis_edited'] = anime['synopsis'].str.replace('\\n', ' ')"
      ],
      "metadata": {
        "id": "1posBxFa910J"
      },
      "execution_count": null,
      "outputs": []
    },
    {
      "cell_type": "code",
      "source": [
        "anime['synopsis_edited'].value_counts().head(10)"
      ],
      "metadata": {
        "colab": {
          "base_uri": "https://localhost:8080/",
          "height": 429
        },
        "id": "LbgY-PmAX0Iw",
        "outputId": "945a73cc-0891-4584-b235-e57c4545c9ad"
      },
      "execution_count": null,
      "outputs": [
        {
          "output_type": "execute_result",
          "data": {
            "text/plain": [
              "synopsis_edited\n",
              "No synopsis information has been added to this title. Help improve our database by adding a synopsis here .    678\n",
              "No synopsis has been added for this series yet. Click here to update this information.                          35\n",
              "Film by Takashi Ito.                                                                                            13\n",
              "Furukawa Taku film.                                                                                             13\n",
              "short animation by Taku Furukawa.                                                                               10\n",
              "short film by Okamoto Tadanari.                                                                                  8\n",
              "Short animation by Rapparu.                                                                                      8\n",
              "short puppet animation movie by Tadahito Mochinaga.                                                              6\n",
              "Short film by Kurosaka Keita.                                                                                    6\n",
              "Short film by Hirano Ryou.                                                                                       6\n",
              "Name: count, dtype: int64"
            ],
            "text/html": [
              "<div>\n",
              "<style scoped>\n",
              "    .dataframe tbody tr th:only-of-type {\n",
              "        vertical-align: middle;\n",
              "    }\n",
              "\n",
              "    .dataframe tbody tr th {\n",
              "        vertical-align: top;\n",
              "    }\n",
              "\n",
              "    .dataframe thead th {\n",
              "        text-align: right;\n",
              "    }\n",
              "</style>\n",
              "<table border=\"1\" class=\"dataframe\">\n",
              "  <thead>\n",
              "    <tr style=\"text-align: right;\">\n",
              "      <th></th>\n",
              "      <th>count</th>\n",
              "    </tr>\n",
              "    <tr>\n",
              "      <th>synopsis_edited</th>\n",
              "      <th></th>\n",
              "    </tr>\n",
              "  </thead>\n",
              "  <tbody>\n",
              "    <tr>\n",
              "      <th>No synopsis information has been added to this title. Help improve our database by adding a synopsis here .</th>\n",
              "      <td>678</td>\n",
              "    </tr>\n",
              "    <tr>\n",
              "      <th>No synopsis has been added for this series yet. Click here to update this information.</th>\n",
              "      <td>35</td>\n",
              "    </tr>\n",
              "    <tr>\n",
              "      <th>Film by Takashi Ito.</th>\n",
              "      <td>13</td>\n",
              "    </tr>\n",
              "    <tr>\n",
              "      <th>Furukawa Taku film.</th>\n",
              "      <td>13</td>\n",
              "    </tr>\n",
              "    <tr>\n",
              "      <th>short animation by Taku Furukawa.</th>\n",
              "      <td>10</td>\n",
              "    </tr>\n",
              "    <tr>\n",
              "      <th>short film by Okamoto Tadanari.</th>\n",
              "      <td>8</td>\n",
              "    </tr>\n",
              "    <tr>\n",
              "      <th>Short animation by Rapparu.</th>\n",
              "      <td>8</td>\n",
              "    </tr>\n",
              "    <tr>\n",
              "      <th>short puppet animation movie by Tadahito Mochinaga.</th>\n",
              "      <td>6</td>\n",
              "    </tr>\n",
              "    <tr>\n",
              "      <th>Short film by Kurosaka Keita.</th>\n",
              "      <td>6</td>\n",
              "    </tr>\n",
              "    <tr>\n",
              "      <th>Short film by Hirano Ryou.</th>\n",
              "      <td>6</td>\n",
              "    </tr>\n",
              "  </tbody>\n",
              "</table>\n",
              "</div><br><label><b>dtype:</b> int64</label>"
            ]
          },
          "metadata": {},
          "execution_count": 15
        }
      ]
    },
    {
      "cell_type": "code",
      "source": [
        "remove_synopsis = anime['synopsis_edited'].value_counts().head(2).index.tolist()\n",
        "remove_synopsis"
      ],
      "metadata": {
        "id": "v0owFCVL21e6",
        "colab": {
          "base_uri": "https://localhost:8080/"
        },
        "outputId": "250d8d23-17c3-43de-d6a2-db8b16dc4135"
      },
      "execution_count": null,
      "outputs": [
        {
          "output_type": "execute_result",
          "data": {
            "text/plain": [
              "['No synopsis information has been added to this title. Help improve our database by adding a synopsis here .',\n",
              " 'No synopsis has been added for this series yet. Click here to update this information.']"
            ]
          },
          "metadata": {},
          "execution_count": 16
        }
      ]
    },
    {
      "cell_type": "code",
      "source": [
        "anime.loc[anime['synopsis_edited'].isin(remove_synopsis), 'synopsis_edited'] = np.nan"
      ],
      "metadata": {
        "id": "zr59E0wC2-NU"
      },
      "execution_count": null,
      "outputs": []
    },
    {
      "cell_type": "code",
      "source": [
        "anime['synopsis_edited'].value_counts().head(5)"
      ],
      "metadata": {
        "colab": {
          "base_uri": "https://localhost:8080/",
          "height": 272
        },
        "id": "ec1IhkSz4Fyd",
        "outputId": "80e73c56-c93d-438c-d2e8-50e619c049a5"
      },
      "execution_count": null,
      "outputs": [
        {
          "output_type": "execute_result",
          "data": {
            "text/plain": [
              "synopsis_edited\n",
              "Film by Takashi Ito.                 13\n",
              "Furukawa Taku film.                  13\n",
              "short animation by Taku Furukawa.    10\n",
              "short film by Okamoto Tadanari.       8\n",
              "Short animation by Rapparu.           8\n",
              "Name: count, dtype: int64"
            ],
            "text/html": [
              "<div>\n",
              "<style scoped>\n",
              "    .dataframe tbody tr th:only-of-type {\n",
              "        vertical-align: middle;\n",
              "    }\n",
              "\n",
              "    .dataframe tbody tr th {\n",
              "        vertical-align: top;\n",
              "    }\n",
              "\n",
              "    .dataframe thead th {\n",
              "        text-align: right;\n",
              "    }\n",
              "</style>\n",
              "<table border=\"1\" class=\"dataframe\">\n",
              "  <thead>\n",
              "    <tr style=\"text-align: right;\">\n",
              "      <th></th>\n",
              "      <th>count</th>\n",
              "    </tr>\n",
              "    <tr>\n",
              "      <th>synopsis_edited</th>\n",
              "      <th></th>\n",
              "    </tr>\n",
              "  </thead>\n",
              "  <tbody>\n",
              "    <tr>\n",
              "      <th>Film by Takashi Ito.</th>\n",
              "      <td>13</td>\n",
              "    </tr>\n",
              "    <tr>\n",
              "      <th>Furukawa Taku film.</th>\n",
              "      <td>13</td>\n",
              "    </tr>\n",
              "    <tr>\n",
              "      <th>short animation by Taku Furukawa.</th>\n",
              "      <td>10</td>\n",
              "    </tr>\n",
              "    <tr>\n",
              "      <th>short film by Okamoto Tadanari.</th>\n",
              "      <td>8</td>\n",
              "    </tr>\n",
              "    <tr>\n",
              "      <th>Short animation by Rapparu.</th>\n",
              "      <td>8</td>\n",
              "    </tr>\n",
              "  </tbody>\n",
              "</table>\n",
              "</div><br><label><b>dtype:</b> int64</label>"
            ]
          },
          "metadata": {},
          "execution_count": 18
        }
      ]
    },
    {
      "cell_type": "code",
      "source": [
        "anime['synopsis_edited'].isna().sum()"
      ],
      "metadata": {
        "colab": {
          "base_uri": "https://localhost:8080/"
        },
        "id": "Mi3tq43n4IMV",
        "outputId": "87966d94-622f-4408-f397-d8b355981164"
      },
      "execution_count": null,
      "outputs": [
        {
          "output_type": "execute_result",
          "data": {
            "text/plain": [
              "np.int64(721)"
            ]
          },
          "metadata": {},
          "execution_count": 19
        }
      ]
    },
    {
      "cell_type": "code",
      "source": [
        "anime['synopsis_edited'][anime['synopsis_edited'].notna()].str.split(' ').apply(lambda x: len(x)).value_counts().sort_index().head(20)"
      ],
      "metadata": {
        "colab": {
          "base_uri": "https://localhost:8080/",
          "height": 742
        },
        "id": "5sc_4cvv4OGc",
        "outputId": "3016573e-3825-43af-e4f1-78d48abc44f9"
      },
      "execution_count": null,
      "outputs": [
        {
          "output_type": "execute_result",
          "data": {
            "text/plain": [
              "synopsis_edited\n",
              "2      32\n",
              "3      48\n",
              "4     148\n",
              "5     264\n",
              "6     269\n",
              "7     280\n",
              "8     300\n",
              "9     272\n",
              "10    237\n",
              "11    282\n",
              "12    247\n",
              "13    219\n",
              "14    207\n",
              "15    187\n",
              "16    158\n",
              "17    156\n",
              "18    151\n",
              "19    153\n",
              "20    125\n",
              "21    108\n",
              "Name: count, dtype: int64"
            ],
            "text/html": [
              "<div>\n",
              "<style scoped>\n",
              "    .dataframe tbody tr th:only-of-type {\n",
              "        vertical-align: middle;\n",
              "    }\n",
              "\n",
              "    .dataframe tbody tr th {\n",
              "        vertical-align: top;\n",
              "    }\n",
              "\n",
              "    .dataframe thead th {\n",
              "        text-align: right;\n",
              "    }\n",
              "</style>\n",
              "<table border=\"1\" class=\"dataframe\">\n",
              "  <thead>\n",
              "    <tr style=\"text-align: right;\">\n",
              "      <th></th>\n",
              "      <th>count</th>\n",
              "    </tr>\n",
              "    <tr>\n",
              "      <th>synopsis_edited</th>\n",
              "      <th></th>\n",
              "    </tr>\n",
              "  </thead>\n",
              "  <tbody>\n",
              "    <tr>\n",
              "      <th>2</th>\n",
              "      <td>32</td>\n",
              "    </tr>\n",
              "    <tr>\n",
              "      <th>3</th>\n",
              "      <td>48</td>\n",
              "    </tr>\n",
              "    <tr>\n",
              "      <th>4</th>\n",
              "      <td>148</td>\n",
              "    </tr>\n",
              "    <tr>\n",
              "      <th>5</th>\n",
              "      <td>264</td>\n",
              "    </tr>\n",
              "    <tr>\n",
              "      <th>6</th>\n",
              "      <td>269</td>\n",
              "    </tr>\n",
              "    <tr>\n",
              "      <th>7</th>\n",
              "      <td>280</td>\n",
              "    </tr>\n",
              "    <tr>\n",
              "      <th>8</th>\n",
              "      <td>300</td>\n",
              "    </tr>\n",
              "    <tr>\n",
              "      <th>9</th>\n",
              "      <td>272</td>\n",
              "    </tr>\n",
              "    <tr>\n",
              "      <th>10</th>\n",
              "      <td>237</td>\n",
              "    </tr>\n",
              "    <tr>\n",
              "      <th>11</th>\n",
              "      <td>282</td>\n",
              "    </tr>\n",
              "    <tr>\n",
              "      <th>12</th>\n",
              "      <td>247</td>\n",
              "    </tr>\n",
              "    <tr>\n",
              "      <th>13</th>\n",
              "      <td>219</td>\n",
              "    </tr>\n",
              "    <tr>\n",
              "      <th>14</th>\n",
              "      <td>207</td>\n",
              "    </tr>\n",
              "    <tr>\n",
              "      <th>15</th>\n",
              "      <td>187</td>\n",
              "    </tr>\n",
              "    <tr>\n",
              "      <th>16</th>\n",
              "      <td>158</td>\n",
              "    </tr>\n",
              "    <tr>\n",
              "      <th>17</th>\n",
              "      <td>156</td>\n",
              "    </tr>\n",
              "    <tr>\n",
              "      <th>18</th>\n",
              "      <td>151</td>\n",
              "    </tr>\n",
              "    <tr>\n",
              "      <th>19</th>\n",
              "      <td>153</td>\n",
              "    </tr>\n",
              "    <tr>\n",
              "      <th>20</th>\n",
              "      <td>125</td>\n",
              "    </tr>\n",
              "    <tr>\n",
              "      <th>21</th>\n",
              "      <td>108</td>\n",
              "    </tr>\n",
              "  </tbody>\n",
              "</table>\n",
              "</div><br><label><b>dtype:</b> int64</label>"
            ]
          },
          "metadata": {},
          "execution_count": 20
        }
      ]
    },
    {
      "cell_type": "code",
      "source": [
        "synp_not_na = anime['synopsis_edited'][anime['synopsis_edited'].notna()]\n",
        "synp_not_na"
      ],
      "metadata": {
        "colab": {
          "base_uri": "https://localhost:8080/",
          "height": 458
        },
        "id": "6O0TaZnM4OI8",
        "outputId": "5ef31baf-2c2e-4487-9654-a7d5fec9c8c6"
      },
      "execution_count": null,
      "outputs": [
        {
          "output_type": "execute_result",
          "data": {
            "text/plain": [
              "0        In the year 2071, humanity has colonized sever...\n",
              "1        other day, another bounty—such is the life of ...\n",
              "2        Vash the Stampede is the man with a $$60,000,0...\n",
              "3        ches are individuals with special powers like ...\n",
              "4        It is the dark century and the people are suff...\n",
              "                               ...                        \n",
              "14701    The first astronaut in human history was a vam...\n",
              "14704    ko is a typical high school student whose life...\n",
              "14705            Sequel to Higurashi no Naku Koro ni Gou .\n",
              "14706                            New Yama no Susume anime.\n",
              "14707    Solar calendar year 2020: grotesque organisms ...\n",
              "Name: synopsis_edited, Length: 13987, dtype: object"
            ],
            "text/html": [
              "<div>\n",
              "<style scoped>\n",
              "    .dataframe tbody tr th:only-of-type {\n",
              "        vertical-align: middle;\n",
              "    }\n",
              "\n",
              "    .dataframe tbody tr th {\n",
              "        vertical-align: top;\n",
              "    }\n",
              "\n",
              "    .dataframe thead th {\n",
              "        text-align: right;\n",
              "    }\n",
              "</style>\n",
              "<table border=\"1\" class=\"dataframe\">\n",
              "  <thead>\n",
              "    <tr style=\"text-align: right;\">\n",
              "      <th></th>\n",
              "      <th>synopsis_edited</th>\n",
              "    </tr>\n",
              "  </thead>\n",
              "  <tbody>\n",
              "    <tr>\n",
              "      <th>0</th>\n",
              "      <td>In the year 2071, humanity has colonized sever...</td>\n",
              "    </tr>\n",
              "    <tr>\n",
              "      <th>1</th>\n",
              "      <td>other day, another bounty—such is the life of ...</td>\n",
              "    </tr>\n",
              "    <tr>\n",
              "      <th>2</th>\n",
              "      <td>Vash the Stampede is the man with a $$60,000,0...</td>\n",
              "    </tr>\n",
              "    <tr>\n",
              "      <th>3</th>\n",
              "      <td>ches are individuals with special powers like ...</td>\n",
              "    </tr>\n",
              "    <tr>\n",
              "      <th>4</th>\n",
              "      <td>It is the dark century and the people are suff...</td>\n",
              "    </tr>\n",
              "    <tr>\n",
              "      <th>...</th>\n",
              "      <td>...</td>\n",
              "    </tr>\n",
              "    <tr>\n",
              "      <th>14701</th>\n",
              "      <td>The first astronaut in human history was a vam...</td>\n",
              "    </tr>\n",
              "    <tr>\n",
              "      <th>14704</th>\n",
              "      <td>ko is a typical high school student whose life...</td>\n",
              "    </tr>\n",
              "    <tr>\n",
              "      <th>14705</th>\n",
              "      <td>Sequel to Higurashi no Naku Koro ni Gou .</td>\n",
              "    </tr>\n",
              "    <tr>\n",
              "      <th>14706</th>\n",
              "      <td>New Yama no Susume anime.</td>\n",
              "    </tr>\n",
              "    <tr>\n",
              "      <th>14707</th>\n",
              "      <td>Solar calendar year 2020: grotesque organisms ...</td>\n",
              "    </tr>\n",
              "  </tbody>\n",
              "</table>\n",
              "<p>13987 rows × 1 columns</p>\n",
              "</div><br><label><b>dtype:</b> object</label>"
            ]
          },
          "metadata": {},
          "execution_count": 21
        }
      ]
    },
    {
      "cell_type": "code",
      "source": [
        "synp_not_na[synp_not_na.str.split(' ').apply(lambda x: 31 <= len(x) <= 40)].iloc[516]"
      ],
      "metadata": {
        "colab": {
          "base_uri": "https://localhost:8080/",
          "height": 53
        },
        "id": "qznpYpGQ5xlx",
        "outputId": "12549198-0699-411b-adda-4c1e4e70fd87"
      },
      "execution_count": null,
      "outputs": [
        {
          "output_type": "execute_result",
          "data": {
            "text/plain": [
              "\"Based on Miura Ayako's literary work. Tells the story of Nagano Nobuo from his childhood in Tokyo, through a gradual journey of self-discovery and acceptance of the Christian faith, to his death in Shiokari Pass in Hokkaido. (Source: Jclglobal)\""
            ],
            "application/vnd.google.colaboratory.intrinsic+json": {
              "type": "string"
            }
          },
          "metadata": {},
          "execution_count": 22
        }
      ]
    },
    {
      "cell_type": "code",
      "source": [
        "short_sysp = synp_not_na[synp_not_na.str.split(' ').apply(lambda x: len(x) <= 30)].index.tolist()\n",
        "len(short_sysp)"
      ],
      "metadata": {
        "colab": {
          "base_uri": "https://localhost:8080/"
        },
        "id": "-J5xHl7h9bMV",
        "outputId": "43429745-6990-4002-fd73-c80d84b9037b"
      },
      "execution_count": null,
      "outputs": [
        {
          "output_type": "execute_result",
          "data": {
            "text/plain": [
              "4839"
            ]
          },
          "metadata": {},
          "execution_count": 23
        }
      ]
    },
    {
      "cell_type": "code",
      "source": [
        "anime.loc[short_sysp, 'synopsis_edited'] = np.nan"
      ],
      "metadata": {
        "id": "78cXK_to9n8l"
      },
      "execution_count": null,
      "outputs": []
    },
    {
      "cell_type": "code",
      "source": [
        "anime['synopsis_edited'].isna().sum()"
      ],
      "metadata": {
        "colab": {
          "base_uri": "https://localhost:8080/"
        },
        "id": "HMqqiimW9n-4",
        "outputId": "490748b2-e249-4add-b085-4a9202ca83f2"
      },
      "execution_count": null,
      "outputs": [
        {
          "output_type": "execute_result",
          "data": {
            "text/plain": [
              "np.int64(5560)"
            ]
          },
          "metadata": {},
          "execution_count": 25
        }
      ]
    },
    {
      "cell_type": "code",
      "source": [
        "anime['plot'] = anime['MAL_ID'].map(plot_df.set_index('MAL_ID')['Plot'])\n",
        "anime['plot']"
      ],
      "metadata": {
        "colab": {
          "base_uri": "https://localhost:8080/",
          "height": 458
        },
        "id": "wH5CuCA13FuK",
        "outputId": "ef922f11-558e-48be-f8bb-998141ba47e8"
      },
      "execution_count": null,
      "outputs": [
        {
          "output_type": "execute_result",
          "data": {
            "text/plain": [
              "0        In the year 2071, roughly fifty years after an...\n",
              "1        A few days before Halloween on Mars, Faye witn...\n",
              "2        In the 32nd century, a man known as \"Vash the ...\n",
              "3        Robin Sena is a \"craft user\", born in Japan an...\n",
              "4        Set in the Dark Ages, a term referring to the ...\n",
              "                               ...                        \n",
              "14703                                                  NaN\n",
              "14704    High school student Miko Yotsuya has the unfor...\n",
              "14705                                                  NaN\n",
              "14706                                                  NaN\n",
              "14707    Set in the near future and an alternate realit...\n",
              "Name: plot, Length: 14708, dtype: object"
            ],
            "text/html": [
              "<div>\n",
              "<style scoped>\n",
              "    .dataframe tbody tr th:only-of-type {\n",
              "        vertical-align: middle;\n",
              "    }\n",
              "\n",
              "    .dataframe tbody tr th {\n",
              "        vertical-align: top;\n",
              "    }\n",
              "\n",
              "    .dataframe thead th {\n",
              "        text-align: right;\n",
              "    }\n",
              "</style>\n",
              "<table border=\"1\" class=\"dataframe\">\n",
              "  <thead>\n",
              "    <tr style=\"text-align: right;\">\n",
              "      <th></th>\n",
              "      <th>plot</th>\n",
              "    </tr>\n",
              "  </thead>\n",
              "  <tbody>\n",
              "    <tr>\n",
              "      <th>0</th>\n",
              "      <td>In the year 2071, roughly fifty years after an...</td>\n",
              "    </tr>\n",
              "    <tr>\n",
              "      <th>1</th>\n",
              "      <td>A few days before Halloween on Mars, Faye witn...</td>\n",
              "    </tr>\n",
              "    <tr>\n",
              "      <th>2</th>\n",
              "      <td>In the 32nd century, a man known as \"Vash the ...</td>\n",
              "    </tr>\n",
              "    <tr>\n",
              "      <th>3</th>\n",
              "      <td>Robin Sena is a \"craft user\", born in Japan an...</td>\n",
              "    </tr>\n",
              "    <tr>\n",
              "      <th>4</th>\n",
              "      <td>Set in the Dark Ages, a term referring to the ...</td>\n",
              "    </tr>\n",
              "    <tr>\n",
              "      <th>...</th>\n",
              "      <td>...</td>\n",
              "    </tr>\n",
              "    <tr>\n",
              "      <th>14703</th>\n",
              "      <td>NaN</td>\n",
              "    </tr>\n",
              "    <tr>\n",
              "      <th>14704</th>\n",
              "      <td>High school student Miko Yotsuya has the unfor...</td>\n",
              "    </tr>\n",
              "    <tr>\n",
              "      <th>14705</th>\n",
              "      <td>NaN</td>\n",
              "    </tr>\n",
              "    <tr>\n",
              "      <th>14706</th>\n",
              "      <td>NaN</td>\n",
              "    </tr>\n",
              "    <tr>\n",
              "      <th>14707</th>\n",
              "      <td>Set in the near future and an alternate realit...</td>\n",
              "    </tr>\n",
              "  </tbody>\n",
              "</table>\n",
              "<p>14708 rows × 1 columns</p>\n",
              "</div><br><label><b>dtype:</b> object</label>"
            ]
          },
          "metadata": {},
          "execution_count": 26
        }
      ]
    },
    {
      "cell_type": "code",
      "source": [
        "anime['plot_edited'] = anime['plot']"
      ],
      "metadata": {
        "id": "YU6JMCu9Y5Id"
      },
      "execution_count": null,
      "outputs": []
    },
    {
      "cell_type": "code",
      "source": [
        "anime['plot_edited'][anime['plot_edited'].notna()].str.split(' ').apply(lambda x: len(x)).value_counts().sort_index().head(20)"
      ],
      "metadata": {
        "colab": {
          "base_uri": "https://localhost:8080/",
          "height": 742
        },
        "id": "brMJdsmbZBHb",
        "outputId": "a41b5151-a90a-4d3f-fd8a-2834ab7ff8ba"
      },
      "execution_count": null,
      "outputs": [
        {
          "output_type": "execute_result",
          "data": {
            "text/plain": [
              "plot_edited\n",
              "5     1\n",
              "8     1\n",
              "9     1\n",
              "10    1\n",
              "13    1\n",
              "14    2\n",
              "15    2\n",
              "16    3\n",
              "18    3\n",
              "19    1\n",
              "20    1\n",
              "21    1\n",
              "22    2\n",
              "23    2\n",
              "24    1\n",
              "25    3\n",
              "26    2\n",
              "27    7\n",
              "28    3\n",
              "29    2\n",
              "Name: count, dtype: int64"
            ],
            "text/html": [
              "<div>\n",
              "<style scoped>\n",
              "    .dataframe tbody tr th:only-of-type {\n",
              "        vertical-align: middle;\n",
              "    }\n",
              "\n",
              "    .dataframe tbody tr th {\n",
              "        vertical-align: top;\n",
              "    }\n",
              "\n",
              "    .dataframe thead th {\n",
              "        text-align: right;\n",
              "    }\n",
              "</style>\n",
              "<table border=\"1\" class=\"dataframe\">\n",
              "  <thead>\n",
              "    <tr style=\"text-align: right;\">\n",
              "      <th></th>\n",
              "      <th>count</th>\n",
              "    </tr>\n",
              "    <tr>\n",
              "      <th>plot_edited</th>\n",
              "      <th></th>\n",
              "    </tr>\n",
              "  </thead>\n",
              "  <tbody>\n",
              "    <tr>\n",
              "      <th>5</th>\n",
              "      <td>1</td>\n",
              "    </tr>\n",
              "    <tr>\n",
              "      <th>8</th>\n",
              "      <td>1</td>\n",
              "    </tr>\n",
              "    <tr>\n",
              "      <th>9</th>\n",
              "      <td>1</td>\n",
              "    </tr>\n",
              "    <tr>\n",
              "      <th>10</th>\n",
              "      <td>1</td>\n",
              "    </tr>\n",
              "    <tr>\n",
              "      <th>13</th>\n",
              "      <td>1</td>\n",
              "    </tr>\n",
              "    <tr>\n",
              "      <th>14</th>\n",
              "      <td>2</td>\n",
              "    </tr>\n",
              "    <tr>\n",
              "      <th>15</th>\n",
              "      <td>2</td>\n",
              "    </tr>\n",
              "    <tr>\n",
              "      <th>16</th>\n",
              "      <td>3</td>\n",
              "    </tr>\n",
              "    <tr>\n",
              "      <th>18</th>\n",
              "      <td>3</td>\n",
              "    </tr>\n",
              "    <tr>\n",
              "      <th>19</th>\n",
              "      <td>1</td>\n",
              "    </tr>\n",
              "    <tr>\n",
              "      <th>20</th>\n",
              "      <td>1</td>\n",
              "    </tr>\n",
              "    <tr>\n",
              "      <th>21</th>\n",
              "      <td>1</td>\n",
              "    </tr>\n",
              "    <tr>\n",
              "      <th>22</th>\n",
              "      <td>2</td>\n",
              "    </tr>\n",
              "    <tr>\n",
              "      <th>23</th>\n",
              "      <td>2</td>\n",
              "    </tr>\n",
              "    <tr>\n",
              "      <th>24</th>\n",
              "      <td>1</td>\n",
              "    </tr>\n",
              "    <tr>\n",
              "      <th>25</th>\n",
              "      <td>3</td>\n",
              "    </tr>\n",
              "    <tr>\n",
              "      <th>26</th>\n",
              "      <td>2</td>\n",
              "    </tr>\n",
              "    <tr>\n",
              "      <th>27</th>\n",
              "      <td>7</td>\n",
              "    </tr>\n",
              "    <tr>\n",
              "      <th>28</th>\n",
              "      <td>3</td>\n",
              "    </tr>\n",
              "    <tr>\n",
              "      <th>29</th>\n",
              "      <td>2</td>\n",
              "    </tr>\n",
              "  </tbody>\n",
              "</table>\n",
              "</div><br><label><b>dtype:</b> int64</label>"
            ]
          },
          "metadata": {},
          "execution_count": 28
        }
      ]
    },
    {
      "cell_type": "code",
      "source": [
        "plot_not_na = anime['plot_edited'][anime['plot_edited'].notna()]\n",
        "plot_not_na"
      ],
      "metadata": {
        "colab": {
          "base_uri": "https://localhost:8080/",
          "height": 458
        },
        "id": "N7TdhiFfY5LT",
        "outputId": "5fd74355-13c3-4a90-e601-f208f90ecdfe"
      },
      "execution_count": null,
      "outputs": [
        {
          "output_type": "execute_result",
          "data": {
            "text/plain": [
              "0        In the year 2071, roughly fifty years after an...\n",
              "1        A few days before Halloween on Mars, Faye witn...\n",
              "2        In the 32nd century, a man known as \"Vash the ...\n",
              "3        Robin Sena is a \"craft user\", born in Japan an...\n",
              "4        Set in the Dark Ages, a term referring to the ...\n",
              "                               ...                        \n",
              "14676    Extremely anxious and socially awkward Hitori ...\n",
              "14688    During Winter of his third middle school year,...\n",
              "14691    Set in post-apocalyptic Japan, the land is rav...\n",
              "14704    High school student Miko Yotsuya has the unfor...\n",
              "14707    Set in the near future and an alternate realit...\n",
              "Name: plot_edited, Length: 2578, dtype: object"
            ],
            "text/html": [
              "<div>\n",
              "<style scoped>\n",
              "    .dataframe tbody tr th:only-of-type {\n",
              "        vertical-align: middle;\n",
              "    }\n",
              "\n",
              "    .dataframe tbody tr th {\n",
              "        vertical-align: top;\n",
              "    }\n",
              "\n",
              "    .dataframe thead th {\n",
              "        text-align: right;\n",
              "    }\n",
              "</style>\n",
              "<table border=\"1\" class=\"dataframe\">\n",
              "  <thead>\n",
              "    <tr style=\"text-align: right;\">\n",
              "      <th></th>\n",
              "      <th>plot_edited</th>\n",
              "    </tr>\n",
              "  </thead>\n",
              "  <tbody>\n",
              "    <tr>\n",
              "      <th>0</th>\n",
              "      <td>In the year 2071, roughly fifty years after an...</td>\n",
              "    </tr>\n",
              "    <tr>\n",
              "      <th>1</th>\n",
              "      <td>A few days before Halloween on Mars, Faye witn...</td>\n",
              "    </tr>\n",
              "    <tr>\n",
              "      <th>2</th>\n",
              "      <td>In the 32nd century, a man known as \"Vash the ...</td>\n",
              "    </tr>\n",
              "    <tr>\n",
              "      <th>3</th>\n",
              "      <td>Robin Sena is a \"craft user\", born in Japan an...</td>\n",
              "    </tr>\n",
              "    <tr>\n",
              "      <th>4</th>\n",
              "      <td>Set in the Dark Ages, a term referring to the ...</td>\n",
              "    </tr>\n",
              "    <tr>\n",
              "      <th>...</th>\n",
              "      <td>...</td>\n",
              "    </tr>\n",
              "    <tr>\n",
              "      <th>14676</th>\n",
              "      <td>Extremely anxious and socially awkward Hitori ...</td>\n",
              "    </tr>\n",
              "    <tr>\n",
              "      <th>14688</th>\n",
              "      <td>During Winter of his third middle school year,...</td>\n",
              "    </tr>\n",
              "    <tr>\n",
              "      <th>14691</th>\n",
              "      <td>Set in post-apocalyptic Japan, the land is rav...</td>\n",
              "    </tr>\n",
              "    <tr>\n",
              "      <th>14704</th>\n",
              "      <td>High school student Miko Yotsuya has the unfor...</td>\n",
              "    </tr>\n",
              "    <tr>\n",
              "      <th>14707</th>\n",
              "      <td>Set in the near future and an alternate realit...</td>\n",
              "    </tr>\n",
              "  </tbody>\n",
              "</table>\n",
              "<p>2578 rows × 1 columns</p>\n",
              "</div><br><label><b>dtype:</b> object</label>"
            ]
          },
          "metadata": {},
          "execution_count": 29
        }
      ]
    },
    {
      "cell_type": "code",
      "source": [
        "short_plot = plot_not_na[plot_not_na.str.split(' ').apply(lambda x: len(x) <= 30)].index.tolist()\n",
        "len(short_plot)"
      ],
      "metadata": {
        "colab": {
          "base_uri": "https://localhost:8080/"
        },
        "id": "Kd7MxrdUZsQj",
        "outputId": "dd173ce9-bb7e-4025-9a0d-13ecd640db94"
      },
      "execution_count": null,
      "outputs": [
        {
          "output_type": "execute_result",
          "data": {
            "text/plain": [
              "42"
            ]
          },
          "metadata": {},
          "execution_count": 30
        }
      ]
    },
    {
      "cell_type": "code",
      "source": [
        "anime.loc[short_plot, 'plot_edited'] = np.nan"
      ],
      "metadata": {
        "id": "PqabtLJKZsTC"
      },
      "execution_count": null,
      "outputs": []
    },
    {
      "cell_type": "code",
      "source": [
        "anime['plot'][anime['plot'].notna()].str.split(' ').apply(lambda x: len(x) > 500).sum()"
      ],
      "metadata": {
        "colab": {
          "base_uri": "https://localhost:8080/"
        },
        "id": "WimYJmk6GEdS",
        "outputId": "544d9ae0-104d-4d78-9966-2beba40cd797"
      },
      "execution_count": null,
      "outputs": [
        {
          "output_type": "execute_result",
          "data": {
            "text/plain": [
              "np.int64(453)"
            ]
          },
          "metadata": {},
          "execution_count": 32
        }
      ]
    },
    {
      "cell_type": "code",
      "source": [
        "def comparison_func(df):\n",
        "\n",
        "    if pd.isna(df['plot_edited']):\n",
        "        return df['synopsis_edited']\n",
        "\n",
        "    if pd.isna(df['synopsis_edited']):\n",
        "        return df['plot_edited']\n",
        "\n",
        "    len1 = len(df['plot_edited'].split(' '))\n",
        "    len2 = len(df['synopsis_edited'].split(' '))\n",
        "    if len1 >= len2:\n",
        "        return df['plot_edited']\n",
        "    else:\n",
        "        return df['synopsis_edited']\n"
      ],
      "metadata": {
        "id": "zISSDwFVX5e4"
      },
      "execution_count": null,
      "outputs": []
    },
    {
      "cell_type": "code",
      "source": [
        "comp_results = anime.apply(comparison_func, axis = 1)\n",
        "comp_results"
      ],
      "metadata": {
        "colab": {
          "base_uri": "https://localhost:8080/",
          "height": 458
        },
        "id": "Gp5cTw2pX5hB",
        "outputId": "2c01b9c5-98fc-41ad-839c-bb42aa9f02a4"
      },
      "execution_count": null,
      "outputs": [
        {
          "output_type": "execute_result",
          "data": {
            "text/plain": [
              "0        In the year 2071, roughly fifty years after an...\n",
              "1        A few days before Halloween on Mars, Faye witn...\n",
              "2        In the 32nd century, a man known as \"Vash the ...\n",
              "3        Robin Sena is a \"craft user\", born in Japan an...\n",
              "4        Set in the Dark Ages, a term referring to the ...\n",
              "                               ...                        \n",
              "14703                                                  NaN\n",
              "14704    ko is a typical high school student whose life...\n",
              "14705                                                  NaN\n",
              "14706                                                  NaN\n",
              "14707    Solar calendar year 2020: grotesque organisms ...\n",
              "Length: 14708, dtype: object"
            ],
            "text/html": [
              "<div>\n",
              "<style scoped>\n",
              "    .dataframe tbody tr th:only-of-type {\n",
              "        vertical-align: middle;\n",
              "    }\n",
              "\n",
              "    .dataframe tbody tr th {\n",
              "        vertical-align: top;\n",
              "    }\n",
              "\n",
              "    .dataframe thead th {\n",
              "        text-align: right;\n",
              "    }\n",
              "</style>\n",
              "<table border=\"1\" class=\"dataframe\">\n",
              "  <thead>\n",
              "    <tr style=\"text-align: right;\">\n",
              "      <th></th>\n",
              "      <th>0</th>\n",
              "    </tr>\n",
              "  </thead>\n",
              "  <tbody>\n",
              "    <tr>\n",
              "      <th>0</th>\n",
              "      <td>In the year 2071, roughly fifty years after an...</td>\n",
              "    </tr>\n",
              "    <tr>\n",
              "      <th>1</th>\n",
              "      <td>A few days before Halloween on Mars, Faye witn...</td>\n",
              "    </tr>\n",
              "    <tr>\n",
              "      <th>2</th>\n",
              "      <td>In the 32nd century, a man known as \"Vash the ...</td>\n",
              "    </tr>\n",
              "    <tr>\n",
              "      <th>3</th>\n",
              "      <td>Robin Sena is a \"craft user\", born in Japan an...</td>\n",
              "    </tr>\n",
              "    <tr>\n",
              "      <th>4</th>\n",
              "      <td>Set in the Dark Ages, a term referring to the ...</td>\n",
              "    </tr>\n",
              "    <tr>\n",
              "      <th>...</th>\n",
              "      <td>...</td>\n",
              "    </tr>\n",
              "    <tr>\n",
              "      <th>14703</th>\n",
              "      <td>NaN</td>\n",
              "    </tr>\n",
              "    <tr>\n",
              "      <th>14704</th>\n",
              "      <td>ko is a typical high school student whose life...</td>\n",
              "    </tr>\n",
              "    <tr>\n",
              "      <th>14705</th>\n",
              "      <td>NaN</td>\n",
              "    </tr>\n",
              "    <tr>\n",
              "      <th>14706</th>\n",
              "      <td>NaN</td>\n",
              "    </tr>\n",
              "    <tr>\n",
              "      <th>14707</th>\n",
              "      <td>Solar calendar year 2020: grotesque organisms ...</td>\n",
              "    </tr>\n",
              "  </tbody>\n",
              "</table>\n",
              "<p>14708 rows × 1 columns</p>\n",
              "</div><br><label><b>dtype:</b> object</label>"
            ]
          },
          "metadata": {},
          "execution_count": 34
        }
      ]
    },
    {
      "cell_type": "code",
      "source": [
        "anime['final_plot'] = comp_results"
      ],
      "metadata": {
        "id": "PcVolIIgYDPz"
      },
      "execution_count": null,
      "outputs": []
    },
    {
      "cell_type": "code",
      "source": [
        "anime['final_plot'].notna().sum()"
      ],
      "metadata": {
        "colab": {
          "base_uri": "https://localhost:8080/"
        },
        "id": "u1lixEdq12We",
        "outputId": "4311ede4-9afb-4bcb-b657-8f54da146b3c"
      },
      "execution_count": null,
      "outputs": [
        {
          "output_type": "execute_result",
          "data": {
            "text/plain": [
              "np.int64(9262)"
            ]
          },
          "metadata": {},
          "execution_count": 36
        }
      ]
    },
    {
      "cell_type": "code",
      "source": [
        "content_df = anime.loc[anime['final_plot'].notna(),['MAL_ID', 'final_plot', 'Name']]"
      ],
      "metadata": {
        "id": "8kFchO1GK56K"
      },
      "execution_count": null,
      "outputs": []
    },
    {
      "cell_type": "code",
      "source": [
        "content_df['final_plot'].shape"
      ],
      "metadata": {
        "colab": {
          "base_uri": "https://localhost:8080/"
        },
        "id": "tPPkTtM26svR",
        "outputId": "0f375641-a710-48a3-da55-8f6db262ca23"
      },
      "execution_count": null,
      "outputs": [
        {
          "output_type": "execute_result",
          "data": {
            "text/plain": [
              "(9262,)"
            ]
          },
          "metadata": {},
          "execution_count": 38
        }
      ]
    },
    {
      "cell_type": "code",
      "source": [
        "content_df.reset_index(drop = True, inplace = True)"
      ],
      "metadata": {
        "id": "rmEfEOYn8ahv"
      },
      "execution_count": null,
      "outputs": []
    },
    {
      "cell_type": "code",
      "source": [
        "content_df.head()"
      ],
      "metadata": {
        "colab": {
          "base_uri": "https://localhost:8080/",
          "height": 206
        },
        "id": "V7BnvZ-b8fiA",
        "outputId": "c6ac5cc9-037b-4b14-9d35-0934b21fb65f"
      },
      "execution_count": null,
      "outputs": [
        {
          "output_type": "execute_result",
          "data": {
            "text/plain": [
              "   MAL_ID                                         final_plot  \\\n",
              "0       1  In the year 2071, roughly fifty years after an...   \n",
              "1       5  A few days before Halloween on Mars, Faye witn...   \n",
              "2       6  In the 32nd century, a man known as \"Vash the ...   \n",
              "3       7  Robin Sena is a \"craft user\", born in Japan an...   \n",
              "4       8  Set in the Dark Ages, a term referring to the ...   \n",
              "\n",
              "                              Name  \n",
              "0                     Cowboy Bebop  \n",
              "1  Cowboy Bebop: Tengoku no Tobira  \n",
              "2                           Trigun  \n",
              "3               Witch Hunter Robin  \n",
              "4                   Bouken Ou Beet  "
            ],
            "text/html": [
              "\n",
              "  <div id=\"df-6bc469ae-d197-49e3-8bb2-f317499c8066\" class=\"colab-df-container\">\n",
              "    <div>\n",
              "<style scoped>\n",
              "    .dataframe tbody tr th:only-of-type {\n",
              "        vertical-align: middle;\n",
              "    }\n",
              "\n",
              "    .dataframe tbody tr th {\n",
              "        vertical-align: top;\n",
              "    }\n",
              "\n",
              "    .dataframe thead th {\n",
              "        text-align: right;\n",
              "    }\n",
              "</style>\n",
              "<table border=\"1\" class=\"dataframe\">\n",
              "  <thead>\n",
              "    <tr style=\"text-align: right;\">\n",
              "      <th></th>\n",
              "      <th>MAL_ID</th>\n",
              "      <th>final_plot</th>\n",
              "      <th>Name</th>\n",
              "    </tr>\n",
              "  </thead>\n",
              "  <tbody>\n",
              "    <tr>\n",
              "      <th>0</th>\n",
              "      <td>1</td>\n",
              "      <td>In the year 2071, roughly fifty years after an...</td>\n",
              "      <td>Cowboy Bebop</td>\n",
              "    </tr>\n",
              "    <tr>\n",
              "      <th>1</th>\n",
              "      <td>5</td>\n",
              "      <td>A few days before Halloween on Mars, Faye witn...</td>\n",
              "      <td>Cowboy Bebop: Tengoku no Tobira</td>\n",
              "    </tr>\n",
              "    <tr>\n",
              "      <th>2</th>\n",
              "      <td>6</td>\n",
              "      <td>In the 32nd century, a man known as \"Vash the ...</td>\n",
              "      <td>Trigun</td>\n",
              "    </tr>\n",
              "    <tr>\n",
              "      <th>3</th>\n",
              "      <td>7</td>\n",
              "      <td>Robin Sena is a \"craft user\", born in Japan an...</td>\n",
              "      <td>Witch Hunter Robin</td>\n",
              "    </tr>\n",
              "    <tr>\n",
              "      <th>4</th>\n",
              "      <td>8</td>\n",
              "      <td>Set in the Dark Ages, a term referring to the ...</td>\n",
              "      <td>Bouken Ou Beet</td>\n",
              "    </tr>\n",
              "  </tbody>\n",
              "</table>\n",
              "</div>\n",
              "    <div class=\"colab-df-buttons\">\n",
              "\n",
              "  <div class=\"colab-df-container\">\n",
              "    <button class=\"colab-df-convert\" onclick=\"convertToInteractive('df-6bc469ae-d197-49e3-8bb2-f317499c8066')\"\n",
              "            title=\"Convert this dataframe to an interactive table.\"\n",
              "            style=\"display:none;\">\n",
              "\n",
              "  <svg xmlns=\"http://www.w3.org/2000/svg\" height=\"24px\" viewBox=\"0 -960 960 960\">\n",
              "    <path d=\"M120-120v-720h720v720H120Zm60-500h600v-160H180v160Zm220 220h160v-160H400v160Zm0 220h160v-160H400v160ZM180-400h160v-160H180v160Zm440 0h160v-160H620v160ZM180-180h160v-160H180v160Zm440 0h160v-160H620v160Z\"/>\n",
              "  </svg>\n",
              "    </button>\n",
              "\n",
              "  <style>\n",
              "    .colab-df-container {\n",
              "      display:flex;\n",
              "      gap: 12px;\n",
              "    }\n",
              "\n",
              "    .colab-df-convert {\n",
              "      background-color: #E8F0FE;\n",
              "      border: none;\n",
              "      border-radius: 50%;\n",
              "      cursor: pointer;\n",
              "      display: none;\n",
              "      fill: #1967D2;\n",
              "      height: 32px;\n",
              "      padding: 0 0 0 0;\n",
              "      width: 32px;\n",
              "    }\n",
              "\n",
              "    .colab-df-convert:hover {\n",
              "      background-color: #E2EBFA;\n",
              "      box-shadow: 0px 1px 2px rgba(60, 64, 67, 0.3), 0px 1px 3px 1px rgba(60, 64, 67, 0.15);\n",
              "      fill: #174EA6;\n",
              "    }\n",
              "\n",
              "    .colab-df-buttons div {\n",
              "      margin-bottom: 4px;\n",
              "    }\n",
              "\n",
              "    [theme=dark] .colab-df-convert {\n",
              "      background-color: #3B4455;\n",
              "      fill: #D2E3FC;\n",
              "    }\n",
              "\n",
              "    [theme=dark] .colab-df-convert:hover {\n",
              "      background-color: #434B5C;\n",
              "      box-shadow: 0px 1px 3px 1px rgba(0, 0, 0, 0.15);\n",
              "      filter: drop-shadow(0px 1px 2px rgba(0, 0, 0, 0.3));\n",
              "      fill: #FFFFFF;\n",
              "    }\n",
              "  </style>\n",
              "\n",
              "    <script>\n",
              "      const buttonEl =\n",
              "        document.querySelector('#df-6bc469ae-d197-49e3-8bb2-f317499c8066 button.colab-df-convert');\n",
              "      buttonEl.style.display =\n",
              "        google.colab.kernel.accessAllowed ? 'block' : 'none';\n",
              "\n",
              "      async function convertToInteractive(key) {\n",
              "        const element = document.querySelector('#df-6bc469ae-d197-49e3-8bb2-f317499c8066');\n",
              "        const dataTable =\n",
              "          await google.colab.kernel.invokeFunction('convertToInteractive',\n",
              "                                                    [key], {});\n",
              "        if (!dataTable) return;\n",
              "\n",
              "        const docLinkHtml = 'Like what you see? Visit the ' +\n",
              "          '<a target=\"_blank\" href=https://colab.research.google.com/notebooks/data_table.ipynb>data table notebook</a>'\n",
              "          + ' to learn more about interactive tables.';\n",
              "        element.innerHTML = '';\n",
              "        dataTable['output_type'] = 'display_data';\n",
              "        await google.colab.output.renderOutput(dataTable, element);\n",
              "        const docLink = document.createElement('div');\n",
              "        docLink.innerHTML = docLinkHtml;\n",
              "        element.appendChild(docLink);\n",
              "      }\n",
              "    </script>\n",
              "  </div>\n",
              "\n",
              "\n",
              "    <div id=\"df-873782d4-9dfa-4605-88e4-881a9c67c7f3\">\n",
              "      <button class=\"colab-df-quickchart\" onclick=\"quickchart('df-873782d4-9dfa-4605-88e4-881a9c67c7f3')\"\n",
              "                title=\"Suggest charts\"\n",
              "                style=\"display:none;\">\n",
              "\n",
              "<svg xmlns=\"http://www.w3.org/2000/svg\" height=\"24px\"viewBox=\"0 0 24 24\"\n",
              "     width=\"24px\">\n",
              "    <g>\n",
              "        <path d=\"M19 3H5c-1.1 0-2 .9-2 2v14c0 1.1.9 2 2 2h14c1.1 0 2-.9 2-2V5c0-1.1-.9-2-2-2zM9 17H7v-7h2v7zm4 0h-2V7h2v10zm4 0h-2v-4h2v4z\"/>\n",
              "    </g>\n",
              "</svg>\n",
              "      </button>\n",
              "\n",
              "<style>\n",
              "  .colab-df-quickchart {\n",
              "      --bg-color: #E8F0FE;\n",
              "      --fill-color: #1967D2;\n",
              "      --hover-bg-color: #E2EBFA;\n",
              "      --hover-fill-color: #174EA6;\n",
              "      --disabled-fill-color: #AAA;\n",
              "      --disabled-bg-color: #DDD;\n",
              "  }\n",
              "\n",
              "  [theme=dark] .colab-df-quickchart {\n",
              "      --bg-color: #3B4455;\n",
              "      --fill-color: #D2E3FC;\n",
              "      --hover-bg-color: #434B5C;\n",
              "      --hover-fill-color: #FFFFFF;\n",
              "      --disabled-bg-color: #3B4455;\n",
              "      --disabled-fill-color: #666;\n",
              "  }\n",
              "\n",
              "  .colab-df-quickchart {\n",
              "    background-color: var(--bg-color);\n",
              "    border: none;\n",
              "    border-radius: 50%;\n",
              "    cursor: pointer;\n",
              "    display: none;\n",
              "    fill: var(--fill-color);\n",
              "    height: 32px;\n",
              "    padding: 0;\n",
              "    width: 32px;\n",
              "  }\n",
              "\n",
              "  .colab-df-quickchart:hover {\n",
              "    background-color: var(--hover-bg-color);\n",
              "    box-shadow: 0 1px 2px rgba(60, 64, 67, 0.3), 0 1px 3px 1px rgba(60, 64, 67, 0.15);\n",
              "    fill: var(--button-hover-fill-color);\n",
              "  }\n",
              "\n",
              "  .colab-df-quickchart-complete:disabled,\n",
              "  .colab-df-quickchart-complete:disabled:hover {\n",
              "    background-color: var(--disabled-bg-color);\n",
              "    fill: var(--disabled-fill-color);\n",
              "    box-shadow: none;\n",
              "  }\n",
              "\n",
              "  .colab-df-spinner {\n",
              "    border: 2px solid var(--fill-color);\n",
              "    border-color: transparent;\n",
              "    border-bottom-color: var(--fill-color);\n",
              "    animation:\n",
              "      spin 1s steps(1) infinite;\n",
              "  }\n",
              "\n",
              "  @keyframes spin {\n",
              "    0% {\n",
              "      border-color: transparent;\n",
              "      border-bottom-color: var(--fill-color);\n",
              "      border-left-color: var(--fill-color);\n",
              "    }\n",
              "    20% {\n",
              "      border-color: transparent;\n",
              "      border-left-color: var(--fill-color);\n",
              "      border-top-color: var(--fill-color);\n",
              "    }\n",
              "    30% {\n",
              "      border-color: transparent;\n",
              "      border-left-color: var(--fill-color);\n",
              "      border-top-color: var(--fill-color);\n",
              "      border-right-color: var(--fill-color);\n",
              "    }\n",
              "    40% {\n",
              "      border-color: transparent;\n",
              "      border-right-color: var(--fill-color);\n",
              "      border-top-color: var(--fill-color);\n",
              "    }\n",
              "    60% {\n",
              "      border-color: transparent;\n",
              "      border-right-color: var(--fill-color);\n",
              "    }\n",
              "    80% {\n",
              "      border-color: transparent;\n",
              "      border-right-color: var(--fill-color);\n",
              "      border-bottom-color: var(--fill-color);\n",
              "    }\n",
              "    90% {\n",
              "      border-color: transparent;\n",
              "      border-bottom-color: var(--fill-color);\n",
              "    }\n",
              "  }\n",
              "</style>\n",
              "\n",
              "      <script>\n",
              "        async function quickchart(key) {\n",
              "          const quickchartButtonEl =\n",
              "            document.querySelector('#' + key + ' button');\n",
              "          quickchartButtonEl.disabled = true;  // To prevent multiple clicks.\n",
              "          quickchartButtonEl.classList.add('colab-df-spinner');\n",
              "          try {\n",
              "            const charts = await google.colab.kernel.invokeFunction(\n",
              "                'suggestCharts', [key], {});\n",
              "          } catch (error) {\n",
              "            console.error('Error during call to suggestCharts:', error);\n",
              "          }\n",
              "          quickchartButtonEl.classList.remove('colab-df-spinner');\n",
              "          quickchartButtonEl.classList.add('colab-df-quickchart-complete');\n",
              "        }\n",
              "        (() => {\n",
              "          let quickchartButtonEl =\n",
              "            document.querySelector('#df-873782d4-9dfa-4605-88e4-881a9c67c7f3 button');\n",
              "          quickchartButtonEl.style.display =\n",
              "            google.colab.kernel.accessAllowed ? 'block' : 'none';\n",
              "        })();\n",
              "      </script>\n",
              "    </div>\n",
              "\n",
              "    </div>\n",
              "  </div>\n"
            ],
            "application/vnd.google.colaboratory.intrinsic+json": {
              "type": "dataframe",
              "variable_name": "content_df",
              "summary": "{\n  \"name\": \"content_df\",\n  \"rows\": 9262,\n  \"fields\": [\n    {\n      \"column\": \"MAL_ID\",\n      \"properties\": {\n        \"dtype\": \"number\",\n        \"std\": 15079,\n        \"min\": 1,\n        \"max\": 48492,\n        \"num_unique_values\": 9262,\n        \"samples\": [\n          32595,\n          14397,\n          7117\n        ],\n        \"semantic_type\": \"\",\n        \"description\": \"\"\n      }\n    },\n    {\n      \"column\": \"final_plot\",\n      \"properties\": {\n        \"dtype\": \"string\",\n        \"num_unique_values\": 9221,\n        \"samples\": [\n          \"One day, on his way to visit his grandfather's grave, Zhang Chulan is attacked by zombies in a graveyard. In the midst of that situation, he is saved by a mysterious girl, who wields kitchen knives in order to kill the enemies. The girl tells Chulan, who is relieved, to face his hardships head on and leaves. However, Chulan later sees that girl again at his university. From that moment, Zhang Chulan's destiny begins to move. There will be strangers with special powers appearing one by one, with battles involving those abilities. Each episode will bring a new mystery to light.\",\n          \"Some time in the near future, Cyber Formula, an automobile race in a different category from Formula One, is gaining popularity. It features cars equipped with pollution-free engines such as hydrogen engines and room-temperature superconducting motors, and artificial intelligence for navigation. A young driver, Hayato Kazami, is accidentally registered as a driver of Asurada, a Cyber Formula machine developed by his father. He enters the Cyber Formula Grand Prix, and in seasons one and two, a cycle of setbacks and triumphs present obstacles.The TV series, which aired in 1991, is set in 2015, and the sequel OVAs 11 (Double One) through SAGA is set in the years 2016\\u20132020, mainly from the perspective of Sugo Asurada (later Sugo Grand Prix and Sugo Winners), one of the teams competing in the 10th-15th Cyber Formula World Grand Prix, with Hayato as the main character.The OVA SIN is set in the 16th\\u201317th Cyber Formula World Grand Prix in 2021\\u20132022, and features Bleed Kaga (J\\u014dtar\\u014d Kaga) as the main character in a fierce life-or-death struggle with Hayato, who has come to be known as the young emperor of the circuit.Although non-canon, the 18th (2023) Cyber Formula tournament can be played in the game Future GPX Cyber Formula: Road to the Infinity 2 for PlayStation 2, and in Future GPX Cyber Formula: Road to the Infinity 3, in addition to the 18th tournament, the 19th (2024) tournament can be played in the Scenario Mode. Although the production staff of the original anime cooperated in the creation of these games, the publisher, Sunrise Interactive, has adopted the stance that these games are \\\"non-canon sequels.\\\"\",\n          \"\\\"Wake Up, Girl Zoo!\\\" is a small zoo located in the outskirts of Sendai. On the verge of closure, its director Tange and breeding staff Matsuda must set out to find a new animal unit for the zoo. How will they revive the zoo with the seven newly gathered animals? (Source: Official website)\"\n        ],\n        \"semantic_type\": \"\",\n        \"description\": \"\"\n      }\n    },\n    {\n      \"column\": \"Name\",\n      \"properties\": {\n        \"dtype\": \"string\",\n        \"num_unique_values\": 9262,\n        \"samples\": [\n          \"Seisen Cerberus: Ryuukoku no Fatalit\\u00e9s\",\n          \"Chihayafuru 2\",\n          \"Pika Don\"\n        ],\n        \"semantic_type\": \"\",\n        \"description\": \"\"\n      }\n    }\n  ]\n}"
            }
          },
          "metadata": {},
          "execution_count": 40
        }
      ]
    },
    {
      "cell_type": "code",
      "source": [
        "model = SentenceTransformer('Alibaba-NLP/gte-large-en-v1.5', trust_remote_code=True)"
      ],
      "metadata": {
        "id": "CMm2VywdNPYG"
      },
      "execution_count": null,
      "outputs": []
    },
    {
      "cell_type": "code",
      "source": [
        "content_df['plot_embeddings'] = content_df['final_plot'].apply(lambda x: model.encode(x, convert_to_tensor=False))"
      ],
      "metadata": {
        "id": "sUTEY8pqfxqE"
      },
      "execution_count": null,
      "outputs": []
    },
    {
      "cell_type": "code",
      "source": [
        "import pickle\n",
        "save_path = 'datasets/created_datasets/content_df_model.pkl'\n",
        "with open(save_path, 'wb') as f:\n",
        "    pickle.dump(content_df, f)"
      ],
      "metadata": {
        "id": "AxfwuHej_ty7"
      },
      "execution_count": null,
      "outputs": []
    },
    {
      "cell_type": "code",
      "source": [],
      "metadata": {
        "id": "my86YKMmrTzG"
      },
      "execution_count": null,
      "outputs": []
    }
  ]
}